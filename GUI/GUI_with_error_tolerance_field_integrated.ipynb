{
 "cells": [
  {
   "cell_type": "code",
   "execution_count": 4,
   "id": "6776c76e",
   "metadata": {},
   "outputs": [],
   "source": [
    "\n",
    "def gui_initial():\n",
    "    \n",
    "    import PySimpleGUI as sg\n",
    "\n",
    "    # Colour personalizations \n",
    "    sg.theme('SandyBeach')\n",
    "    #Layout Initialization to get the overall GUI setup \n",
    "    layout =  [[sg.Text('Choose the Excel file in CDF form')],\n",
    "            [sg.In() ,sg.FileBrowse(file_types=((\"Excel Files\", \"*.xlsx\"),))],  #File browser to select Excel file with data\n",
    "               [sg.Text('error tolerance', size =(15, 1)), sg.InputText()] ,       #Error Tolerance text box so it can be changed as per specs of user\n",
    "               [sg.Submit(), sg.Cancel()]]                                         #Buttons to submit/cancel\n",
    "    window = sg.Window('Ladder Iterative Load Flow Calculator', layout)            #GUI heading\n",
    "    event, values = window.read()\n",
    "    window.close()\n",
    "\n",
    "    print(event, values[0], values[1])                                            #Stored values of the excel file address and error tolerance\n",
    "    if (values[1]==None):\n",
    "        values[1]=0.0001                                                          # to be used to extract data by data parser.\n",
    "    #print(values[1])"
   ]
  },
  {
   "cell_type": "code",
   "execution_count": 5,
   "id": "5bd7370f",
   "metadata": {},
   "outputs": [
    {
     "name": "stdout",
     "output_type": "stream",
     "text": [
      "Cancel  \n"
     ]
    }
   ],
   "source": [
    "gui_initial()"
   ]
  },
  {
   "cell_type": "code",
   "execution_count": 5,
   "id": "b2887bff",
   "metadata": {},
   "outputs": [
    {
     "ename": "NameError",
     "evalue": "name 'values' is not defined",
     "output_type": "error",
     "traceback": [
      "\u001b[1;31m---------------------------------------------------------------------------\u001b[0m",
      "\u001b[1;31mNameError\u001b[0m                                 Traceback (most recent call last)",
      "\u001b[1;32m~\\AppData\\Local\\Temp/ipykernel_892/3024440758.py\u001b[0m in \u001b[0;36m<module>\u001b[1;34m\u001b[0m\n\u001b[1;32m----> 1\u001b[1;33m \u001b[0mvalues\u001b[0m\u001b[1;33m[\u001b[0m\u001b[1;36m1\u001b[0m\u001b[1;33m]\u001b[0m\u001b[1;33m\u001b[0m\u001b[1;33m\u001b[0m\u001b[0m\n\u001b[0m",
      "\u001b[1;31mNameError\u001b[0m: name 'values' is not defined"
     ]
    }
   ],
   "source": []
  },
  {
   "cell_type": "code",
   "execution_count": null,
   "id": "d8daa834",
   "metadata": {},
   "outputs": [],
   "source": []
  }
 ],
 "metadata": {
  "kernelspec": {
   "display_name": "Python 3 (ipykernel)",
   "language": "python",
   "name": "python3"
  },
  "language_info": {
   "codemirror_mode": {
    "name": "ipython",
    "version": 3
   },
   "file_extension": ".py",
   "mimetype": "text/x-python",
   "name": "python",
   "nbconvert_exporter": "python",
   "pygments_lexer": "ipython3",
   "version": "3.9.7"
  }
 },
 "nbformat": 4,
 "nbformat_minor": 5
}
