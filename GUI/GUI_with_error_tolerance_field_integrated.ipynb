{
 "cells": [
  {
   "cell_type": "code",
   "execution_count": 3,
   "id": "6776c76e",
   "metadata": {},
   "outputs": [
    {
     "name": "stdout",
     "output_type": "stream",
     "text": [
      "Cancel  \n"
     ]
    }
   ],
   "source": [
    "import PySimpleGUI as sg\n",
    "\n",
    "# Colour personalizations \n",
    "sg.theme('SandyBeach')\n",
    "#Layout Initialization to get the overall GUI setup \n",
    "layout =  [[sg.In() ,sg.FileBrowse(file_types=((\"Excel Files\", \"*.xlsx\"),))],  #File browser to select Excel file with data\n",
    "           [sg.Text('error tolerance', size =(15, 1)), sg.InputText()] ,       #Error Tolerance text box so it can be changed as per specs of user\n",
    "           [sg.Submit(), sg.Cancel()]]                                         #Buttons to submit/cancel\n",
    "window = sg.Window('Ladder Iterative Load Flow Calculator', layout)            #GUI heading\n",
    "event, values = window.read()\n",
    "window.close()\n",
    "\n",
    "print(event, values[0], values[1])                                            #Stored values of the excel file address and error tolerance\n",
    "                                                                              # to be used to extract data by data parser.\n"
   ]
  },
  {
   "cell_type": "code",
   "execution_count": null,
   "id": "5bd7370f",
   "metadata": {},
   "outputs": [],
   "source": []
  }
 ],
 "metadata": {
  "kernelspec": {
   "display_name": "Python 3 (ipykernel)",
   "language": "python",
   "name": "python3"
  },
  "language_info": {
   "codemirror_mode": {
    "name": "ipython",
    "version": 3
   },
   "file_extension": ".py",
   "mimetype": "text/x-python",
   "name": "python",
   "nbconvert_exporter": "python",
   "pygments_lexer": "ipython3",
   "version": "3.9.7"
  }
 },
 "nbformat": 4,
 "nbformat_minor": 5
}
