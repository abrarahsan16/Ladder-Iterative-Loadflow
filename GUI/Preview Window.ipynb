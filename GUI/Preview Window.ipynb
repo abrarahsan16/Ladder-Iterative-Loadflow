{
 "cells": [
  {
   "cell_type": "code",
   "execution_count": null,
   "id": "d94212ca",
   "metadata": {},
   "outputs": [],
   "source": [
    "import PySimpleGUI as sg\n",
    "import numpy as np\n",
    "\n",
    "calc_engine_outputs = [\n",
    "    ['voltice', '69420','123'],\n",
    "    ['123', '456', '789'],\n",
    "    ['voltice', '69420','123'],\n",
    "    ['123', '456', '789'],\n",
    "    ['voltice', '69420','123'],\n",
    "    ['123', '456', '789'],\n",
    "    ['voltice', '69420','123'],\n",
    "    ['123', '456', '789'],\n",
    "    ['voltice', '69420','123'],\n",
    "    ['123', '456', '789'],\n",
    "    ['voltice', '69420','123'],\n",
    "    ['123', '456', '789'],\n",
    "]\n",
    "voltage=[10,20,30,40,50]\n",
    "bus=[1,2,3,4,5]\n",
    "\n",
    "#calc_output=np.array(bus,voltage)\n",
    "#for x in bus:\n",
    " #   bus.append(voltage)\n",
    "\n",
    "headings = ['Voltage' , 'Voltage Angle', 'Line Power', 'Load per Bus', 'Power Loss']\n",
    "\n",
    "layout=[\n",
    "    [ sg.Table(values= bus, headings = headings, max_col_width=35,\n",
    "                 auto_size_columns=True,\n",
    "                 display_row_numbers=True,\n",
    "                 justification='right',\n",
    "                 num_rows=10,\n",
    "                 key='-TABLE-',\n",
    "                 row_height=35)]\n",
    "                 \n",
    "    ]\n",
    "window = sg.Window(\"Calculation Engine Output\",layout)\n",
    "\n",
    "while True:\n",
    "    event, values = window.read()\n",
    "    if event == \"Exit\" or event == sg.WIN_CLOSED:\n",
    "        break\n",
    "window.close()"
   ]
  },
  {
   "cell_type": "code",
   "execution_count": 11,
   "id": "44a2adb1",
   "metadata": {},
   "outputs": [],
   "source": [
    "voltage=[10,20,30,40,50]\n",
    "bus=[1,2,3,4,5]\n",
    "\n",
    "#for x in bus:\n",
    "#    bus.append(voltage)\n",
    "#return bus"
   ]
  },
  {
   "cell_type": "code",
   "execution_count": 2,
   "id": "7a979b1e",
   "metadata": {},
   "outputs": [
    {
     "data": {
      "text/plain": [
       "5"
      ]
     },
     "execution_count": 2,
     "metadata": {},
     "output_type": "execute_result"
    }
   ],
   "source": [
    "len(voltage)"
   ]
  },
  {
   "cell_type": "code",
   "execution_count": 3,
   "id": "0ead5364",
   "metadata": {},
   "outputs": [
    {
     "name": "stdout",
     "output_type": "stream",
     "text": [
      "1\n"
     ]
    }
   ],
   "source": [
    "print(bus[0])"
   ]
  },
  {
   "cell_type": "code",
   "execution_count": 9,
   "id": "b9df1425",
   "metadata": {},
   "outputs": [
    {
     "ename": "AttributeError",
     "evalue": "'str' object has no attribute 'append'",
     "output_type": "error",
     "traceback": [
      "\u001b[1;31m---------------------------------------------------------------------------\u001b[0m",
      "\u001b[1;31mAttributeError\u001b[0m                            Traceback (most recent call last)",
      "\u001b[1;32m~\\AppData\\Local\\Temp/ipykernel_8804/1119420651.py\u001b[0m in \u001b[0;36m<module>\u001b[1;34m\u001b[0m\n\u001b[0;32m      3\u001b[0m \u001b[1;33m\u001b[0m\u001b[0m\n\u001b[0;32m      4\u001b[0m \u001b[1;32mfor\u001b[0m \u001b[0mi\u001b[0m \u001b[1;32min\u001b[0m \u001b[1;33m(\u001b[0m\u001b[0mvoltage\u001b[0m\u001b[1;33m)\u001b[0m\u001b[1;33m:\u001b[0m\u001b[1;33m\u001b[0m\u001b[1;33m\u001b[0m\u001b[0m\n\u001b[1;32m----> 5\u001b[1;33m     \u001b[0mbus\u001b[0m\u001b[1;33m[\u001b[0m\u001b[0mi\u001b[0m\u001b[1;33m]\u001b[0m\u001b[1;33m.\u001b[0m\u001b[0mappend\u001b[0m\u001b[1;33m(\u001b[0m\u001b[0mvoltage\u001b[0m\u001b[1;33m[\u001b[0m\u001b[0mi\u001b[0m\u001b[1;33m]\u001b[0m\u001b[1;33m)\u001b[0m\u001b[1;33m\u001b[0m\u001b[1;33m\u001b[0m\u001b[0m\n\u001b[0m\u001b[0;32m      6\u001b[0m \u001b[0mprint\u001b[0m\u001b[1;33m(\u001b[0m\u001b[0mbus\u001b[0m\u001b[1;33m)\u001b[0m\u001b[1;33m\u001b[0m\u001b[1;33m\u001b[0m\u001b[0m\n",
      "\u001b[1;31mAttributeError\u001b[0m: 'str' object has no attribute 'append'"
     ]
    }
   ],
   "source": [
    "volt1=str(voltage)\n",
    "bus1=str(bus)\n",
    "\n",
    "for i in (voltage):\n",
    "    bus[i].append(voltage[i])\n",
    "print(bus)"
   ]
  },
  {
   "cell_type": "code",
   "execution_count": null,
   "id": "4ea5fc44",
   "metadata": {},
   "outputs": [],
   "source": [
    "bus[0].append(voltage[0])"
   ]
  },
  {
   "cell_type": "code",
   "execution_count": 10,
   "id": "6fe8093b",
   "metadata": {},
   "outputs": [
    {
     "data": {
      "text/plain": [
       "[1,\n",
       " 2,\n",
       " 3,\n",
       " 4,\n",
       " 5,\n",
       " '[10, 20, 30, 40, 50]',\n",
       " '[10, 20, 30, 40, 50]',\n",
       " '[10, 20, 30, 40, 50]',\n",
       " '[10, 20, 30, 40, 50]',\n",
       " '[10, 20, 30, 40, 50]',\n",
       " '[10, 20, 30, 40, 50]',\n",
       " '[10, 20, 30, 40, 50]',\n",
       " '[10, 20, 30, 40, 50]',\n",
       " '[10, 20, 30, 40, 50]',\n",
       " '[10, 20, 30, 40, 50]']"
      ]
     },
     "execution_count": 10,
     "metadata": {},
     "output_type": "execute_result"
    }
   ],
   "source": [
    "bus"
   ]
  },
  {
   "cell_type": "code",
   "execution_count": null,
   "id": "40a4c152",
   "metadata": {},
   "outputs": [],
   "source": []
  }
 ],
 "metadata": {
  "kernelspec": {
   "display_name": "Python 3 (ipykernel)",
   "language": "python",
   "name": "python3"
  },
  "language_info": {
   "codemirror_mode": {
    "name": "ipython",
    "version": 3
   },
   "file_extension": ".py",
   "mimetype": "text/x-python",
   "name": "python",
   "nbconvert_exporter": "python",
   "pygments_lexer": "ipython3",
   "version": "3.9.7"
  }
 },
 "nbformat": 4,
 "nbformat_minor": 5
}
