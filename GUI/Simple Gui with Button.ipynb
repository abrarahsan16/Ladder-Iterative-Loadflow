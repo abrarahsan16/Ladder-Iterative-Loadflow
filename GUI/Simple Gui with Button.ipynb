{
 "cells": [
  {
   "cell_type": "code",
   "execution_count": 5,
   "metadata": {},
   "outputs": [],
   "source": [
    "#simple PyGUI Implementation\n",
    "import pandas\n",
    "import numpy\n",
    "import PySimpleGUI as sg\n",
    "\n",
    "# Implementing the text for inside the GUI and the button\n",
    "layout=[[sg.Text(\"Muhammad's Basic GUI\")], [sg.Button(\"Close\")]]\n",
    "\n",
    "#Window Creation\n",
    "window =sg.Window(\"Group 1 GUI\",layout)\n",
    "\n",
    "#Event Loop\n",
    "while True:\n",
    "    event,values=window.read()\n",
    "    #command to close the GUI if the close button is pressed\n",
    "    if event ==\"Close\" or event ==sg.WIN_CLOSED:\n",
    "        break\n",
    "window.close()\n"
   ]
  },
  {
   "cell_type": "code",
   "execution_count": null,
   "metadata": {},
   "outputs": [],
   "source": []
  },
  {
   "cell_type": "code",
   "execution_count": null,
   "metadata": {},
   "outputs": [],
   "source": [
    "#GUI(open target location and extract the data excel file) \n",
    "# GUI ------------> Excel file (file path)\n",
    "#Abrar -----------> open the file, pull the Power and source voltage as input, Line impedence\n",
    "#Parham------------> Take the values from abrar and run the calculation on there \n",
    "#Abrar------------> take results from calculation engine and paste onto excel file\n",
    "#Ren-------------> Spew the excel file to the user"
   ]
  },
  {
   "cell_type": "code",
   "execution_count": 6,
   "metadata": {},
   "outputs": [
    {
     "ename": "NameError",
     "evalue": "name 'x' is not defined",
     "output_type": "error",
     "traceback": [
      "\u001b[1;31m---------------------------------------------------------------------------\u001b[0m",
      "\u001b[1;31mNameError\u001b[0m                                 Traceback (most recent call last)",
      "\u001b[1;32m<ipython-input-6-6fcf9dfbd479>\u001b[0m in \u001b[0;36m<module>\u001b[1;34m\u001b[0m\n\u001b[1;32m----> 1\u001b[1;33m \u001b[0mx\u001b[0m\u001b[1;33m\u001b[0m\u001b[1;33m\u001b[0m\u001b[0m\n\u001b[0m",
      "\u001b[1;31mNameError\u001b[0m: name 'x' is not defined"
     ]
    }
   ],
   "source": [
    "x"
   ]
  },
  {
   "cell_type": "code",
   "execution_count": null,
   "metadata": {},
   "outputs": [],
   "source": []
  }
 ],
 "metadata": {
  "kernelspec": {
   "display_name": "Python 3",
   "language": "python",
   "name": "python3"
  },
  "language_info": {
   "codemirror_mode": {
    "name": "ipython",
    "version": 3
   },
   "file_extension": ".py",
   "mimetype": "text/x-python",
   "name": "python",
   "nbconvert_exporter": "python",
   "pygments_lexer": "ipython3",
   "version": "3.7.6"
  }
 },
 "nbformat": 4,
 "nbformat_minor": 4
}
