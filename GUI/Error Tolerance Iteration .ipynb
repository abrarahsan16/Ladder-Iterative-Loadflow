{
 "cells": [
  {
   "cell_type": "code",
   "execution_count": null,
   "id": "20e4ac67",
   "metadata": {},
   "outputs": [],
   "source": [
    "import PySimpleGUI as sg\n",
    "\n",
    "# Colour personalizations \n",
    "sg.theme('SandyBeach')\t\n",
    "\n",
    "layout = [\n",
    "[sg.Text('Please enter your error tolerance value')],\n",
    "[sg.Text('error tolerance', size =(15, 1)), sg.InputText()],\n",
    "[sg.Submit(), sg.Cancel()]\n",
    "]\n",
    "\n",
    "window = sg.Window('Simple data entry window', layout)\n",
    "event, values = window.read()\n",
    "window.close()\n",
    "\n",
    "\n",
    "print(event, values[0])# Stores the value of the error tolerance passed by the user to the calculation engine."
   ]
  }
 ],
 "metadata": {
  "kernelspec": {
   "display_name": "Python 3 (ipykernel)",
   "language": "python",
   "name": "python3"
  },
  "language_info": {
   "codemirror_mode": {
    "name": "ipython",
    "version": 3
   },
   "file_extension": ".py",
   "mimetype": "text/x-python",
   "name": "python",
   "nbconvert_exporter": "python",
   "pygments_lexer": "ipython3",
   "version": "3.9.7"
  }
 },
 "nbformat": 4,
 "nbformat_minor": 5
}
